{
 "cells": [
  {
   "cell_type": "markdown",
   "id": "3faa04a0",
   "metadata": {},
   "source": [
    "# Classifying emotions in movie dialogue using Watson NLP"
   ]
  },
  {
   "cell_type": "markdown",
   "id": "28f7aeed",
   "metadata": {},
   "source": [
    "This notebook demonstrates how to classify emotions in tweets using Watson NLP python library\n",
    "\n",
    "### What you'll learn in this notebook\n",
    "Watson NLP offers so-called blocks for various NLP tasks. This notebook shows:\n",
    "\n",
    "- **Syntax analysis** with the _Syntax block_ for English (`syntax_izumo_en_stock`). This block performs tokenization, lemmatization, parts of speech tagging, and dependency parsing on raw input documents so that custom models can properly classify documents.\n",
    "- **Emotion classification** with the _Ensemble emotion workflow_ (`ensemble_classification-wf_en_emotion-stock`) and the _Aggregated emotion workflow_ (`aggregated_classification-wf_en_emotion-stock`). These model workflow classify text into five emotions: \"sadness\", \"joy\", \"anger\", \"fear\", \"disgust\".\n",
    "\n",
    "## Table of Contents\n",
    "\n",
    "1. [Before you start](#beforeYouStart)\n",
    "1. [Dataset](#dataset)\n",
    "\n",
    "    1. [Data import](#dataImport)\n",
    "    1. [Data formatting](#dataFormat)\n",
    "    1. [Train test split](#trainTestSplit)    \n",
    "1. [Training models](#training)\n",
    "\n",
    "    1. [Pre-processing](#preProcessing)\n",
    "    1. [TF-IDF](#tfidf)\n",
    "    1. [Embeddings](#embeddings)\n",
    "    1. [CNN](#cnn)\n",
    "    \n",
    "1. [Testing](#testing)"
   ]
  },
  {
   "cell_type": "markdown",
   "id": "6b63d308",
   "metadata": {},
   "source": [
    "<a id=\"beforeYouStart\"></a>\n",
    "## 1. Before you start"
   ]
  },
  {
   "cell_type": "markdown",
   "id": "7abcf0ed",
   "metadata": {},
   "source": [
    "<div class=\"alert alert-block alert-danger\">\n",
    "<b>Stop kernel of other notebooks.</b></div>\n",
    "\n",
    "**Note:** If you have other notebooks currently running with the _Default Python 3.8 + Watson NLP XS_ environment, **stop their kernels** before running this notebook. All these notebooks share the same runtime environment, and if they are running in parallel, you may encounter memory issues. To stop the kernel of another notebook, open that notebook, and select _File > Stop Kernel_.\n",
    "\n",
    "<div class=\"alert alert-block alert-warning\">\n",
    "<b>Set Project token.</b></div>\n",
    "\n",
    "Before you can begin working on this notebook in Watson Studio in Cloud Pak for Data as a Service, you need to ensure that the project token is set so that you can access the project assets via the notebook.\n",
    "\n",
    "When this notebook is added to the project, a project access token should be inserted at the top of the notebook in a code cell. If you do not see the cell above, add the token to the notebook by clicking **More > Insert project token** from the notebook action bar.  By running the inserted hidden code cell, a project object is created that you can use to access project resources.\n",
    "\n",
    "![ws-project.mov](https://media.giphy.com/media/jSVxX2spqwWF9unYrs/giphy.gif)\n",
    "\n",
    "<div class=\"alert alert-block alert-info\">\n",
    "<b>Tip:</b> Cell execution</div>\n",
    "\n",
    "Note that you can step through the notebook execution cell by cell, by selecting Shift-Enter. Or you can execute the entire notebook by selecting **Cell -> Run All** from the menu."
   ]
  },
  {
   "cell_type": "markdown",
   "id": "2e2a0256",
   "metadata": {},
   "source": [
    "<span style=\"color:blueviolet\">Begin by importing and initializing some helper libs that are used throughout the notebook.</span>\n"
   ]
  },
  {
   "cell_type": "code",
   "execution_count": 2,
   "id": "6c165050",
   "metadata": {},
   "outputs": [],
   "source": [
    "import json\n",
    "import matplotlib.pyplot as plt\n",
    "import pandas as pd\n",
    "import seaborn as sns\n",
    "import tensorflow as tf\n",
    "import watson_nlp\n",
    "import watson_nlp.data_model as dm\n",
    "\n",
    "from sklearn.model_selection import train_test_split\n",
    "\n",
    "from watson_core.toolkit import fileio\n",
    "from watson_core.toolkit.quality_evaluation import QualityEvaluator, EvalTypes\n",
    "\n",
    "from watson_nlp.blocks.classification.bert import BERT\n",
    "from watson_nlp.blocks.classification.cnn import CNN\n",
    "from watson_core.data_model.streams.resolver import DataStreamResolver\n",
    "from watson_core.data_model.streams.resolver import DataStream\n",
    "from watson_nlp.blocks.classification.svm import SVM\n",
    "from watson_nlp.blocks.vectorization.tfidf import TFIDF"
   ]
  },
  {
   "cell_type": "code",
   "execution_count": 4,
   "id": "1dabb6de",
   "metadata": {},
   "outputs": [],
   "source": [
    "pd.set_option('display.max_colwidth', 0)"
   ]
  },
  {
   "cell_type": "markdown",
   "id": "d3fd319c",
   "metadata": {},
   "source": [
    "<span style=\"color:maroon\">Printing either `block_models` or `workflow_models` will display a list of pretrained models available in the current version of Watson NLP</span>"
   ]
  },
  {
   "cell_type": "code",
   "execution_count": 5,
   "id": "f4645052",
   "metadata": {},
   "outputs": [],
   "source": [
    "block_models = watson_nlp.get_models().get_alias_models()\n",
    "workflow_models = watson_nlp.get_workflows().get_alias_models()"
   ]
  },
  {
   "cell_type": "markdown",
   "id": "c4d248b2",
   "metadata": {},
   "source": [
    "## 2. Dataset\n",
    "\n",
    "The dataset contains over three thousand quotations from movie dialogues. The labeled emotions in the dataset are \"anger\", \"sadness\", \"fear\", \"joy\", and \"disgust\". Because some quotations have multiple sentences, they can be regarded as documents. The dataset is available interanlly at [Github Repo](https://github.ibm.com/hcbt/Watson-NLP/blob/main/Emotion-Classification/movieDialog_train.csv), in accordance to IBM licensing; any other emotion classification dataset may be used in substitution for the workflow outlined in this notebook."
   ]
  },
  {
   "cell_type": "markdown",
   "id": "e9abe899",
   "metadata": {},
   "source": [
    "<a id=\"dataImport\"></a>\n",
    "### 2.1. Data import using Watson Studio Project Library\n",
    "\n",
    "<span style=\"color:blue\">The previously inserted project access token will be used to import datasets from the Project Data Assets. The most commonly imported file formats are .csv and .json.</span>"
   ]
  },
  {
   "cell_type": "code",
   "execution_count": 6,
   "id": "97373e9a",
   "metadata": {},
   "outputs": [],
   "source": [
    "file = project.get_file('movieDialog_train.csv')\n",
    "df = pd.read_csv(file)"
   ]
  },
  {
   "cell_type": "markdown",
   "id": "2721c4e2",
   "metadata": {},
   "source": [
    "<a id=\"dataFormatting\"></a>\n",
    "### 2.2. Data formatting\n",
    "\n",
    "<span style=\"color:blue\">Data prepared for Watson NLP models need to be formatted in such a way that there is a `text` feature column and a `labels` label column. The `labels` column needs have type `list`.</span>"
   ]
  },
  {
   "cell_type": "code",
   "execution_count": 7,
   "id": "d262d5ff",
   "metadata": {},
   "outputs": [],
   "source": [
    "def convertToList(x):\n",
    "    return [x]"
   ]
  },
  {
   "cell_type": "code",
   "execution_count": 8,
   "id": "1989005f",
   "metadata": {},
   "outputs": [],
   "source": [
    "df['label'] = df['label'].apply(convertToList)\n",
    "df = df.rename(columns={'label':'labels'})"
   ]
  },
  {
   "cell_type": "markdown",
   "id": "5c194cdc",
   "metadata": {},
   "source": [
    "<a id=\"trainTestSplit\"></a>\n",
    "## 2. Train Test Split\n",
    "\n",
    "<div class=\"alert alert-block alert-info\">\n",
    "<b>Tip:</b> If you want to carry out emotion analysis on any other dataset, you should first upload the dataset into the project and then update the name of the file in the next cell</div>\n",
    "<br>\n",
    "\n",
    "<span style=\"color:blue\">The data will be split into an 80/20 train-test split using sklearn and then exported into JSON format for the Watson NLP models to consume. Additionally, the column headers will be renamed to the expected `text` and `labels` names, with the labels having type list.</span>"
   ]
  },
  {
   "cell_type": "code",
   "execution_count": 9,
   "id": "c4b73c5b",
   "metadata": {},
   "outputs": [],
   "source": [
    "df_train, df_test = train_test_split(df, test_size=0.2)"
   ]
  },
  {
   "cell_type": "code",
   "execution_count": 10,
   "id": "0b5b3db1",
   "metadata": {},
   "outputs": [],
   "source": [
    "df_train.to_json('movieDialog_train.json', orient='records')\n",
    "df_test.to_json('movieDialog_test.json', orient='records')"
   ]
  },
  {
   "cell_type": "code",
   "execution_count": 11,
   "id": "61ee88cb",
   "metadata": {},
   "outputs": [
    {
     "data": {
      "text/html": [
       "<div>\n",
       "<style scoped>\n",
       "    .dataframe tbody tr th:only-of-type {\n",
       "        vertical-align: middle;\n",
       "    }\n",
       "\n",
       "    .dataframe tbody tr th {\n",
       "        vertical-align: top;\n",
       "    }\n",
       "\n",
       "    .dataframe thead th {\n",
       "        text-align: right;\n",
       "    }\n",
       "</style>\n",
       "<table border=\"1\" class=\"dataframe\">\n",
       "  <thead>\n",
       "    <tr style=\"text-align: right;\">\n",
       "      <th></th>\n",
       "      <th>text</th>\n",
       "      <th>labels</th>\n",
       "      <th>source</th>\n",
       "    </tr>\n",
       "  </thead>\n",
       "  <tbody>\n",
       "    <tr>\n",
       "      <th>1145</th>\n",
       "      <td>Only one guys checked in?</td>\n",
       "      <td>[disgust]</td>\n",
       "      <td>MovieDialog</td>\n",
       "    </tr>\n",
       "    <tr>\n",
       "      <th>3307</th>\n",
       "      <td>That's what I mean - mysterious. Mr. Conway, I don't like that man. He's too vague.</td>\n",
       "      <td>[disgust]</td>\n",
       "      <td>MovieDialog</td>\n",
       "    </tr>\n",
       "    <tr>\n",
       "      <th>357</th>\n",
       "      <td>You don't mind that I'm not coming tonight?</td>\n",
       "      <td>[fear]</td>\n",
       "      <td>MovieDialog</td>\n",
       "    </tr>\n",
       "    <tr>\n",
       "      <th>1272</th>\n",
       "      <td>What do I think? You mean about the possibility of your becoming a monster in two days or about visits from dead friends?</td>\n",
       "      <td>[anger]</td>\n",
       "      <td>MovieDialog</td>\n",
       "    </tr>\n",
       "    <tr>\n",
       "      <th>2356</th>\n",
       "      <td>I was referring to myself.  I thought we might have a picnic tomorrow - it might be a nice change after the Wild West party tonight.  Invite everybody to go to the Everglades -</td>\n",
       "      <td>[happiness]</td>\n",
       "      <td>MovieDialog</td>\n",
       "    </tr>\n",
       "    <tr>\n",
       "      <th>...</th>\n",
       "      <td>...</td>\n",
       "      <td>...</td>\n",
       "      <td>...</td>\n",
       "    </tr>\n",
       "    <tr>\n",
       "      <th>1614</th>\n",
       "      <td>What would you say if I told you the toilet just blew up in my face.</td>\n",
       "      <td>[anger]</td>\n",
       "      <td>MovieDialog</td>\n",
       "    </tr>\n",
       "    <tr>\n",
       "      <th>2327</th>\n",
       "      <td>--ohGodplease -- don't kill me -- don't kill me -- you're one of them, I know it --</td>\n",
       "      <td>[fear]</td>\n",
       "      <td>MovieDialog</td>\n",
       "    </tr>\n",
       "    <tr>\n",
       "      <th>3532</th>\n",
       "      <td>If we run into Billy first, let me try and talk him in.</td>\n",
       "      <td>[neutral]</td>\n",
       "      <td>MovieDialog</td>\n",
       "    </tr>\n",
       "    <tr>\n",
       "      <th>1504</th>\n",
       "      <td>If he's gonna fuck me up the ass!</td>\n",
       "      <td>[disgust]</td>\n",
       "      <td>MovieDialog</td>\n",
       "    </tr>\n",
       "    <tr>\n",
       "      <th>4257</th>\n",
       "      <td>I apologize, Claude. That was rude of me.</td>\n",
       "      <td>[sadness]</td>\n",
       "      <td>MovieDialog</td>\n",
       "    </tr>\n",
       "  </tbody>\n",
       "</table>\n",
       "<p>3439 rows × 3 columns</p>\n",
       "</div>"
      ],
      "text/plain": [
       "                                                                                                                                                                                   text  \\\n",
       "1145  Only one guys checked in?                                                                                                                                                           \n",
       "3307  That's what I mean - mysterious. Mr. Conway, I don't like that man. He's too vague.                                                                                                 \n",
       "357   You don't mind that I'm not coming tonight?                                                                                                                                         \n",
       "1272  What do I think? You mean about the possibility of your becoming a monster in two days or about visits from dead friends?                                                           \n",
       "2356  I was referring to myself.  I thought we might have a picnic tomorrow - it might be a nice change after the Wild West party tonight.  Invite everybody to go to the Everglades -    \n",
       "...                                                                                                                                                                                 ...   \n",
       "1614  What would you say if I told you the toilet just blew up in my face.                                                                                                                \n",
       "2327  --ohGodplease -- don't kill me -- don't kill me -- you're one of them, I know it --                                                                                                 \n",
       "3532  If we run into Billy first, let me try and talk him in.                                                                                                                             \n",
       "1504  If he's gonna fuck me up the ass!                                                                                                                                                   \n",
       "4257  I apologize, Claude. That was rude of me.                                                                                                                                           \n",
       "\n",
       "           labels       source  \n",
       "1145  [disgust]    MovieDialog  \n",
       "3307  [disgust]    MovieDialog  \n",
       "357   [fear]       MovieDialog  \n",
       "1272  [anger]      MovieDialog  \n",
       "2356  [happiness]  MovieDialog  \n",
       "...           ...          ...  \n",
       "1614  [anger]      MovieDialog  \n",
       "2327  [fear]       MovieDialog  \n",
       "3532  [neutral]    MovieDialog  \n",
       "1504  [disgust]    MovieDialog  \n",
       "4257  [sadness]    MovieDialog  \n",
       "\n",
       "[3439 rows x 3 columns]"
      ]
     },
     "execution_count": 11,
     "metadata": {},
     "output_type": "execute_result"
    }
   ],
   "source": [
    "df_train"
   ]
  },
  {
   "cell_type": "markdown",
   "id": "279a70c8",
   "metadata": {},
   "source": [
    "<a id=\"Training models\"></a>\n",
    "## 4. Training models\n",
    "\n",
    "<span style=\"color:blue\">There are three custom classification models in the follow sections. TF-IDF and Embeddings SVM models are trained and saved but not used in the testing section. They can be tested as a bonus. The CNN model is set up to be fine tuned and tested on the test split.</span>\n",
    "<br>\n",
    "<br>\n",
    "<span style=\"color:blueviolet\">The `model.save()` function will save the model as a directory populated with a config.yaml and an artifacts folder. The model will save in the current working directory where this notebook was launched, unless otherwise specified in the model name.</span>"
   ]
  },
  {
   "cell_type": "markdown",
   "id": "c09bf1e8",
   "metadata": {},
   "source": [
    "<a id=\"preProcessing\"></a>\n",
    "### Pre-Processing\n",
    "\n",
    "<span style=\"color:blue\">The pre-processing step converts the training dataset into a a data stream for Watson NLP consumption. \n",
    "The training data is then run through a syntax model to perform tokenization and lemmatization.\n",
    "The following three models will all use this syntax processed data as training data.</span>"
   ]
  },
  {
   "cell_type": "code",
   "execution_count": 12,
   "id": "005486a7",
   "metadata": {},
   "outputs": [],
   "source": [
    "training_data_file = \"movieDialog_train.json\"\n",
    "\n",
    "# Create datastream from training data\n",
    "data_stream_resolver = DataStreamResolver(target_stream_type=list, expected_keys={'text': str, 'labels': list})\n",
    "training_data = data_stream_resolver.as_data_stream(training_data_file)\n",
    "\n",
    "# Load a Syntax model\n",
    "syntax_model = watson_nlp.load(watson_nlp.download('syntax_izumo_en_stock'))\n",
    "\n",
    "# Create Syntax stream\n",
    "text_stream, labels_stream = training_data[0], training_data[1]\n",
    "syntax_stream = syntax_model.stream(text_stream)"
   ]
  },
  {
   "cell_type": "markdown",
   "id": "7e026a5b",
   "metadata": {},
   "source": [
    "<a id=\"tfidf\"></a>\n",
    "### Training with TF-IDF"
   ]
  },
  {
   "cell_type": "code",
   "execution_count": 20,
   "id": "30e3e064",
   "metadata": {},
   "outputs": [],
   "source": [
    "# Train the TF-IDF vectorizer\n",
    "tf_idf_model = TFIDF.train(syntax_stream)\n",
    "tfidf_train_stream = tf_idf_model.stream(syntax_stream)\n",
    "tfidf_svm_train_stream = watson_nlp.data_model.DataStream.zip(tfidf_train_stream, labels_stream)\n",
    "\n",
    "# Train SVM using TF-IDF training stream\n",
    "tfidf_classification_model = SVM.train(tfidf_svm_train_stream)"
   ]
  },
  {
   "cell_type": "code",
   "execution_count": 21,
   "id": "c1454bb1",
   "metadata": {},
   "outputs": [],
   "source": [
    "tfidf_classification_model.save('model_tfidf_emo_classification')"
   ]
  },
  {
   "cell_type": "markdown",
   "id": "3b7bd2eb",
   "metadata": {},
   "source": [
    "<a id=\"embeddings\"></a>\n",
    "### Training with Embeddings"
   ]
  },
  {
   "cell_type": "code",
   "execution_count": 22,
   "id": "fd483f12",
   "metadata": {},
   "outputs": [],
   "source": [
    "use_embedding_model = watson_nlp.download_and_load('embedding_use_en_stock')\n",
    "use_train_stream = use_embedding_model.stream(syntax_stream, doc_embed_style='raw_text')\n",
    "# `raw_text`: run the universal sentence encoder over your text as one large chunk\n",
    "# `ave_sent`: independently run the universal sentence encoder over each of your sentences and average the results to \n",
    "#             produce a document embedding\n",
    "use_svm_train_stream = watson_nlp.data_model.DataStream.zip(use_train_stream, labels_stream)\n",
    "\n",
    "# Train SVM using Universal Sentence Encoder (USE) training stream\n",
    "embeddings_classification_model = SVM.train(use_svm_train_stream)"
   ]
  },
  {
   "cell_type": "code",
   "execution_count": 23,
   "id": "bc75cd65",
   "metadata": {},
   "outputs": [],
   "source": [
    "embeddings_classification_model.save('model_embeddings_emo_classification')"
   ]
  },
  {
   "cell_type": "markdown",
   "id": "e766fb54",
   "metadata": {},
   "source": [
    "<a id=\"cnn\"></a>\n",
    "### Training with CNN\n",
    "<span style=\"color:maroon\">These hyperparameters can be used in the out-of-the-box to tune those models too.</span>"
   ]
  },
  {
   "cell_type": "code",
   "execution_count": 24,
   "id": "9e26fdd5",
   "metadata": {
    "scrolled": true
   },
   "outputs": [
    {
     "name": "stdout",
     "output_type": "stream",
     "text": [
      "Epoch 1/10\n",
      "27/27 [==============================] - 26s 915ms/step - loss: 5.4816 - categorical_accuracy: 0.3486\n",
      "Epoch 2/10\n",
      "27/27 [==============================] - 24s 899ms/step - loss: 4.0135 - categorical_accuracy: 0.4577\n",
      "Epoch 3/10\n",
      "27/27 [==============================] - 24s 896ms/step - loss: 3.0717 - categorical_accuracy: 0.5092\n",
      "Epoch 4/10\n",
      "27/27 [==============================] - 24s 905ms/step - loss: 2.4441 - categorical_accuracy: 0.5368\n",
      "Epoch 5/10\n",
      "27/27 [==============================] - 24s 899ms/step - loss: 2.0339 - categorical_accuracy: 0.5778\n",
      "Epoch 6/10\n",
      "27/27 [==============================] - 24s 900ms/step - loss: 1.7635 - categorical_accuracy: 0.6063\n",
      "Epoch 7/10\n",
      "27/27 [==============================] - 25s 913ms/step - loss: 1.5709 - categorical_accuracy: 0.6208\n",
      "Epoch 8/10\n",
      "27/27 [==============================] - 25s 934ms/step - loss: 1.4303 - categorical_accuracy: 0.6316\n",
      "Epoch 9/10\n",
      "27/27 [==============================] - 25s 916ms/step - loss: 1.3355 - categorical_accuracy: 0.6479\n",
      "Epoch 10/10\n",
      "27/27 [==============================] - 25s 921ms/step - loss: 1.2568 - categorical_accuracy: 0.6601\n"
     ]
    }
   ],
   "source": [
    "training_data_file = \"movieDialog_train.json\"\n",
    "\n",
    "# Load glove embeddings\n",
    "glove_embedding_model = watson_nlp.download_and_load('embedding_glove_en_stock')\n",
    "\n",
    "# Train CNN\n",
    "cnn_classification_model = CNN.train(DataStream.zip(syntax_stream, labels_stream), \n",
    "                                     embedding=glove_embedding_model.embedding, \n",
    "                                     batch_size=128, \n",
    "                                     filter_sizes=(1, 2, 2), \n",
    "                                     num_filters=256, \n",
    "                                     epochs=10, \n",
    "                                     random_seed=1001, \n",
    "                                     enable_tensorboard=False, \n",
    "                                     dropout_prob=0.5, \n",
    "                                     l2_reg_lambda=0.01, \n",
    "                                     verbose=1, \n",
    "                                     multi_label=False, )"
   ]
  },
  {
   "cell_type": "code",
   "execution_count": 25,
   "id": "4a134402",
   "metadata": {},
   "outputs": [],
   "source": [
    "cnn_classification_model.save('model_cnn_emo_classification')"
   ]
  },
  {
   "cell_type": "markdown",
   "id": "a5a65a6b",
   "metadata": {},
   "source": [
    "<span style=\"color:blueviolet\">By using `project.save_data()`, the model will be saved as an object into the Data Assets of the Watson Studio project.</span>"
   ]
  },
  {
   "cell_type": "code",
   "execution_count": 26,
   "id": "e5bc0f4c",
   "metadata": {},
   "outputs": [
    {
     "data": {
      "text/plain": [
       "{'file_name': 'model_cnn_emo_classification',\n",
       " 'message': 'File saved to project storage.',\n",
       " 'bucket_name': 'watsoncore-donotdelete-pr-olkxvfa8bk0pb1',\n",
       " 'asset_id': '0e8343b6-0009-4cca-903b-0aec5ff4e27c'}"
      ]
     },
     "execution_count": 26,
     "metadata": {},
     "output_type": "execute_result"
    }
   ],
   "source": [
    "project.save_data('model_cnn_emo_classification', data=cnn_classification_model.as_file_like_object(), overwrite=True)"
   ]
  },
  {
   "cell_type": "markdown",
   "id": "95a74a53",
   "metadata": {},
   "source": [
    "<a id=\"Testing\"></a>\n",
    "## 5. Testing\n",
    "<span style=\"color:blue\">The first step in testing the model is to load in the previously saved classification model. Then, just like with the training data, the testing data will need to be processed by the syntax model for tokenization and lemmatization. Finally, the `model.evaluate_quality()` function will run predictions on the data.</span>"
   ]
  },
  {
   "cell_type": "code",
   "execution_count": 27,
   "id": "c9d3982c",
   "metadata": {},
   "outputs": [],
   "source": [
    "test_data_file = \"movieDialog_test.json\"\n",
    "\n",
    "# Load a Syntax model\n",
    "syntax_model = watson_nlp.load(watson_nlp.download('syntax_izumo_en_stock'))\n",
    "\n",
    "# Load classification model\n",
    "classification_model = watson_nlp.load('model_cnn_emo_classification')\n",
    "\n",
    "# Setup pre-processing function\n",
    "preprocess_func = lambda raw_doc: syntax_model.run_batch(raw_doc)\n",
    "\n",
    "quality_report = classification_model.evaluate_quality(test_data_file, preprocess_func)"
   ]
  },
  {
   "cell_type": "markdown",
   "id": "cb8aba05",
   "metadata": {},
   "source": [
    "<span style=\"color:blueviolet\">While this CNN classification model did out perform the out-of-the-box Ensemble model, it still has a medium-low micro precision, recall, and f1.\n",
    "<br><br>\n",
    "*The micro metrics are taken here instead of the macro metrics because of the class imbalance in the data.</span>"
   ]
  },
  {
   "cell_type": "code",
   "execution_count": 28,
   "id": "6ea0802f",
   "metadata": {
    "scrolled": true
   },
   "outputs": [
    {
     "name": "stdout",
     "output_type": "stream",
     "text": [
      "{\n",
      "    \"per_class_confusion_matrix\": {\n",
      "        \"anger\": {\n",
      "            \"true_positive\": 203,\n",
      "            \"true_negative\": 0,\n",
      "            \"false_positive\": 189,\n",
      "            \"false_negative\": 78,\n",
      "            \"precision\": 0.5178571428571429,\n",
      "            \"recall\": 0.7224199288256228,\n",
      "            \"f1\": 0.6032689450222882\n",
      "        },\n",
      "        \"fear\": {\n",
      "            \"true_positive\": 0,\n",
      "            \"true_negative\": 0,\n",
      "            \"false_positive\": 0,\n",
      "            \"false_negative\": 38,\n",
      "            \"precision\": 0,\n",
      "            \"recall\": 0.0,\n",
      "            \"f1\": 0\n",
      "        },\n",
      "        \"neutral\": {\n",
      "            \"true_positive\": 174,\n",
      "            \"true_negative\": 0,\n",
      "            \"false_positive\": 148,\n",
      "            \"false_negative\": 99,\n",
      "            \"precision\": 0.5403726708074534,\n",
      "            \"recall\": 0.6373626373626373,\n",
      "            \"f1\": 0.5848739495798319\n",
      "        },\n",
      "        \"happiness\": {\n",
      "            \"true_positive\": 59,\n",
      "            \"true_negative\": 0,\n",
      "            \"false_positive\": 40,\n",
      "            \"false_negative\": 48,\n",
      "            \"precision\": 0.5959595959595959,\n",
      "            \"recall\": 0.5514018691588785,\n",
      "            \"f1\": 0.5728155339805824\n",
      "        },\n",
      "        \"disgust\": {\n",
      "            \"true_positive\": 1,\n",
      "            \"true_negative\": 0,\n",
      "            \"false_positive\": 1,\n",
      "            \"false_negative\": 47,\n",
      "            \"precision\": 0.5,\n",
      "            \"recall\": 0.020833333333333332,\n",
      "            \"f1\": 0.039999999999999994\n",
      "        },\n",
      "        \"sadness\": {\n",
      "            \"true_positive\": 25,\n",
      "            \"true_negative\": 0,\n",
      "            \"false_positive\": 20,\n",
      "            \"false_negative\": 86,\n",
      "            \"precision\": 0.5555555555555556,\n",
      "            \"recall\": 0.22522522522522523,\n",
      "            \"f1\": 0.32051282051282054\n",
      "        },\n",
      "        \"none\": {\n",
      "            \"true_positive\": 0,\n",
      "            \"true_negative\": 0,\n",
      "            \"false_positive\": 0,\n",
      "            \"false_negative\": 2,\n",
      "            \"precision\": 0,\n",
      "            \"recall\": 0.0,\n",
      "            \"f1\": 0\n",
      "        }\n",
      "    },\n",
      "    \"macro_precision\": 0.3871064235971069,\n",
      "    \"macro_recall\": 0.3081775705579567,\n",
      "    \"macro_f1\": 0.3030673212993604,\n",
      "    \"micro_precision\": 0.5372093023255814,\n",
      "    \"micro_recall\": 0.5372093023255814,\n",
      "    \"micro_f1\": 0.5372093023255814,\n",
      "    \"overall_tp\": 462,\n",
      "    \"overall_fp\": 398,\n",
      "    \"overall_fn\": 398,\n",
      "    \"detailed_metrics\": [],\n",
      "    \"micro_precision_partial_match\": 0,\n",
      "    \"micro_recall_partial_match\": 0,\n",
      "    \"micro_f1_partial_match\": 0\n",
      "}\n"
     ]
    }
   ],
   "source": [
    "print(json.dumps(quality_report, indent=4))"
   ]
  },
  {
   "cell_type": "markdown",
   "id": "e8748a7b",
   "metadata": {},
   "source": [
    "<span style=\"color:blueviolet\">With the same single input, the CNN model predicts `happiness` with higher confidence than the out-of-the-box models.</span>"
   ]
  },
  {
   "cell_type": "code",
   "execution_count": 29,
   "id": "9173c47d",
   "metadata": {
    "scrolled": true
   },
   "outputs": [
    {
     "name": "stdout",
     "output_type": "stream",
     "text": [
      "{\n",
      "  \"classes\": [\n",
      "    {\n",
      "      \"class_name\": \"happiness\",\n",
      "      \"confidence\": 0.7313699722290039\n",
      "    },\n",
      "    {\n",
      "      \"class_name\": \"neutral\",\n",
      "      \"confidence\": 0.0853412076830864\n",
      "    },\n",
      "    {\n",
      "      \"class_name\": \"sadness\",\n",
      "      \"confidence\": 0.08039671927690506\n",
      "    },\n",
      "    {\n",
      "      \"class_name\": \"anger\",\n",
      "      \"confidence\": 0.04342210665345192\n",
      "    },\n",
      "    {\n",
      "      \"class_name\": \"disgust\",\n",
      "      \"confidence\": 0.04208728298544884\n",
      "    },\n",
      "    {\n",
      "      \"class_name\": \"fear\",\n",
      "      \"confidence\": 0.017382703721523285\n",
      "    }\n",
      "  ],\n",
      "  \"producer_id\": {\n",
      "    \"name\": \"CNN classifier\",\n",
      "    \"version\": \"0.0.1\"\n",
      "  }\n",
      "}\n"
     ]
    }
   ],
   "source": [
    "syntax_prediction = syntax_model.run(\"Such a sweet boy. But after much thought and careful consideration, I've decided that the ruler for the next ten thousand years is going to have to be... me. \")\n",
    "classifier_result = classification_model.run(syntax_prediction)\n",
    "print(classifier_result)"
   ]
  },
  {
   "cell_type": "code",
   "execution_count": 30,
   "id": "36c94371",
   "metadata": {},
   "outputs": [
    {
     "data": {
      "text/plain": [
       "\"\\nimport pickle\\nwith open ('model_cnn_emo_classification.pkl', 'wb') as f:\\n    pickle.dump(classification_model.as_file_like_object(), f)\\n\""
      ]
     },
     "execution_count": 30,
     "metadata": {},
     "output_type": "execute_result"
    }
   ],
   "source": [
    "# Another option for saving the model\n",
    "'''\n",
    "import pickle\n",
    "with open ('model_cnn_emo_classification.pkl', 'wb') as f:\n",
    "    pickle.dump(classification_model.as_file_like_object(), f)\n",
    "'''"
   ]
  },
  {
   "cell_type": "markdown",
   "id": "6965d599",
   "metadata": {},
   "source": [
    "## 7. Summary"
   ]
  },
  {
   "cell_type": "markdown",
   "id": "2bdb1d73",
   "metadata": {},
   "source": [
    "<span style=\"color:blue\">This notebook shows you how to use the Watson NLP library and how quickly and easily you can get started with Watson NLP by fine tuning deep learning models for emotion analysis."
   ]
  },
  {
   "cell_type": "code",
   "execution_count": null,
   "id": "88f0b8ed",
   "metadata": {},
   "outputs": [],
   "source": []
  }
 ],
 "metadata": {
  "kernelspec": {
   "display_name": "Python 3.8 Watson NLP",
   "language": "python",
   "name": "python3"
  },
  "language_info": {
   "codemirror_mode": {
    "name": "ipython",
    "version": 3
   },
   "file_extension": ".py",
   "mimetype": "text/x-python",
   "name": "python",
   "nbconvert_exporter": "python",
   "pygments_lexer": "ipython3",
   "version": "3.8.11"
  }
 },
 "nbformat": 4,
 "nbformat_minor": 5
}
